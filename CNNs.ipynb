{
  "cells": [
    {
      "cell_type": "markdown",
      "source": [
        "# Data reprocessing"
      ],
      "metadata": {
        "id": "seY-4hVGgQIE"
      }
    },
    {
      "cell_type": "code",
      "source": [
        "import tensorflow as tf\n",
        "import matplotlib.pyplot as plt\n",
        "import pandas as pd\n",
        "import numpy as np\n",
        "import os\n",
        "import glob"
      ],
      "metadata": {
        "id": "XM6IkK6lgQmM"
      },
      "execution_count": null,
      "outputs": []
    },
    {
      "cell_type": "code",
      "execution_count": null,
      "metadata": {
        "id": "oPkOtvxOYJOb"
      },
      "outputs": [],
      "source": [
        "#load data()\n",
        "(x_train,y_train),(x_test,y_test)=tf.keras.datasets.cifar10.load_data()"
      ]
    },
    {
      "cell_type": "code",
      "source": [
        "print(x_train.shape)\n",
        "print(y_train.shape)"
      ],
      "metadata": {
        "colab": {
          "base_uri": "https://localhost:8080/"
        },
        "id": "pfA8IGasU-Es",
        "outputId": "32dd7e45-f7fb-441c-a485-0bd777e809df"
      },
      "execution_count": null,
      "outputs": [
        {
          "output_type": "stream",
          "name": "stdout",
          "text": [
            "(50000, 32, 32, 3)\n",
            "(50000, 1)\n"
          ]
        }
      ]
    },
    {
      "cell_type": "code",
      "execution_count": null,
      "metadata": {
        "id": "NT20goHoYu_O",
        "colab": {
          "base_uri": "https://localhost:8080/"
        },
        "outputId": "7ee7c9cc-3d44-4cd3-e296-2361538f6378"
      },
      "outputs": [
        {
          "output_type": "stream",
          "name": "stdout",
          "text": [
            "(50000, 32, 32, 3)\n",
            "(50000,)\n"
          ]
        }
      ],
      "source": [
        "#reshape the y_train and y_test \n",
        "y_train=tf.reshape(y_train,(-1))\n",
        "y_test=tf.reshape(y_test,(-1))\n",
        "print(x_train.shape)\n",
        "print(y_train.shape)"
      ]
    },
    {
      "cell_type": "code",
      "execution_count": null,
      "metadata": {
        "colab": {
          "base_uri": "https://localhost:8080/",
          "height": 285
        },
        "id": "uPwWz7WBaBa8",
        "outputId": "35a699be-3972-481e-918d-83e97d63e709"
      },
      "outputs": [
        {
          "output_type": "execute_result",
          "data": {
            "text/plain": [
              "<matplotlib.image.AxesImage at 0x7f301f36a310>"
            ]
          },
          "metadata": {},
          "execution_count": 116
        },
        {
          "output_type": "display_data",
          "data": {
            "image/png": "[encoded data removed]",
            "text/plain": [
              "<Figure size 432x288 with 1 Axes>"
            ]
          },
          "metadata": {
            "needs_background": "light"
          }
        }
      ],
      "source": [
        "plt.imshow(x_train[0])"
      ]
    },
    {
      "cell_type": "code",
      "source": [
        "y_train[:10]"
      ],
      "metadata": {
        "colab": {
          "base_uri": "https://localhost:8080/"
        },
        "id": "eU7m0E5HVmni",
        "outputId": "f0df029d-288f-4423-9b67-2eb04e53e179"
      },
      "execution_count": null,
      "outputs": [
        {
          "output_type": "execute_result",
          "data": {
            "text/plain": [
              "<tf.Tensor: shape=(10,), dtype=uint8, numpy=array([6, 9, 9, 4, 1, 1, 2, 7, 8, 3], dtype=uint8)>"
            ]
          },
          "metadata": {},
          "execution_count": 117
        }
      ]
    },
    {
      "cell_type": "code",
      "execution_count": null,
      "metadata": {
        "id": "6IO0vRxhaiNx"
      },
      "outputs": [],
      "source": [
        "#convert the labels to one hot vector\n",
        "y_train=tf.one_hot(y_train,depth=10)\n",
        "y_test=tf.one_hot(y_test,depth=10)"
      ]
    },
    {
      "cell_type": "code",
      "source": [
        "y_train[:10]"
      ],
      "metadata": {
        "colab": {
          "base_uri": "https://localhost:8080/"
        },
        "id": "JtTm0DN4V9oj",
        "outputId": "92bc1d34-b32e-4612-9714-e3703e0b1453"
      },
      "execution_count": null,
      "outputs": [
        {
          "output_type": "execute_result",
          "data": {
            "text/plain": [
              "<tf.Tensor: shape=(10, 10), dtype=float32, numpy=\n",
              "array([[0., 0., 0., 0., 0., 0., 1., 0., 0., 0.],\n",
              "       [0., 0., 0., 0., 0., 0., 0., 0., 0., 1.],\n",
              "       [0., 0., 0., 0., 0., 0., 0., 0., 0., 1.],\n",
              "       [0., 0., 0., 0., 1., 0., 0., 0., 0., 0.],\n",
              "       [0., 1., 0., 0., 0., 0., 0., 0., 0., 0.],\n",
              "       [0., 1., 0., 0., 0., 0., 0., 0., 0., 0.],\n",
              "       [0., 0., 1., 0., 0., 0., 0., 0., 0., 0.],\n",
              "       [0., 0., 0., 0., 0., 0., 0., 1., 0., 0.],\n",
              "       [0., 0., 0., 0., 0., 0., 0., 0., 1., 0.],\n",
              "       [0., 0., 0., 1., 0., 0., 0., 0., 0., 0.]], dtype=float32)>"
            ]
          },
          "metadata": {},
          "execution_count": 119
        }
      ]
    },
    {
      "cell_type": "markdown",
      "source": [
        "#Building an image data pipeline"
      ],
      "metadata": {
        "id": "vBveGG0WgpXO"
      }
    },
    {
      "cell_type": "code",
      "source": [
        "def dataset_creater(x,y):\n",
        "    data=tf.data.Dataset.from_tensor_slices((x,y))\n",
        "    data=data.shuffle(1024)#shuffle the data\n",
        "    data=data.batch(32)#creat mini-batch\n",
        "    data=data.prefetch(tf.data.AUTOTUNE)#This allows later elements to be prepared while the current element is being processed.     \n",
        "    return data\n",
        "train_dataset=dataset_creater(x_train,y_train)#create the train dataset\n",
        "test_dataset=dataset_creater(x_test,y_test)#create the test dataset \n",
        "\n",
        "for x,y in train_dataset.take(1):#take the first batch\n",
        "    x=x\n",
        "    y=y\n",
        "print('shape of x:',x.shape)\n",
        "print('shape of y:',y.shape)"
      ],
      "metadata": {
        "colab": {
          "base_uri": "https://localhost:8080/"
        },
        "id": "1OfU7uUIZQIf",
        "outputId": "23cacbbe-e159-451f-e9a6-8fe7692b4f8a"
      },
      "execution_count": null,
      "outputs": [
        {
          "output_type": "stream",
          "name": "stdout",
          "text": [
            "shape of x: (32, 32, 32, 3)\n",
            "shape of y: (32, 10)\n"
          ]
        }
      ]
    },
    {
      "cell_type": "markdown",
      "source": [
        "#Data Augmentation"
      ],
      "metadata": {
        "id": "qnmaHD7UhErp"
      }
    },
    {
      "cell_type": "code",
      "execution_count": null,
      "metadata": {
        "id": "WXrHjbjQehLs"
      },
      "outputs": [],
      "source": [
        "def data_ag(image, label):\n",
        "  image=tf.image.convert_image_dtype(image,tf.float32)\n",
        "  image=tf.image.random_flip_left_right(image)\n",
        "  image=tf.image.random_flip_up_down(image)\n",
        "\n",
        "  image=tf.image.stateless_random_brightness(image,max_delta=32.0/255.0)\n",
        "  image=tf.image.stateless_random_saturation(image,lower=0.5,upper=1.5)\n",
        "\n",
        "  image = tf.clip_by_value(image, 0.0, 1.0)\n",
        "  return image,label"
      ]
    },
    {
      "cell_type": "code",
      "execution_count": null,
      "metadata": {
        "id": "5Nt_PB_Cb8s1"
      },
      "outputs": [],
      "source": [
        "def dataset_creater(x,y):\n",
        "    #Create a dataset that contains the images and labels\n",
        "    data=tf.data.Dataset.from_tensor_slices((x,y))\n",
        "    data=data.shuffle(1024)#shuffle the data\n",
        "    #data=data.map(data_ag,num_parallel_calls=tf.data.experimental.AUTOTUNE)#apply the preprocessing function to the data\n",
        "    data=data.batch(32)#creat mini-batch\n",
        "    data=data.prefetch(tf.data.experimental.AUTOTUNE)#This allows later elements to be prepared while the current element is being processed.\n",
        "    \n",
        "    return data\n",
        "train_dataset=dataset_creater(x_train,y_train)#create the train dataset\n",
        "test_dataset=dataset_creater(x_test,y_test)#create the test dataset    "
      ]
    },
    {
      "cell_type": "code",
      "execution_count": null,
      "metadata": {
        "id": "wYg2qd1Kii8Z",
        "colab": {
          "base_uri": "https://localhost:8080/"
        },
        "outputId": "4edcbd09-9406-4cbb-b900-bc481731d63d"
      },
      "outputs": [
        {
          "output_type": "stream",
          "name": "stdout",
          "text": [
            "shape of x: (32, 32, 32, 3)\n",
            "shape of y: (32, 10)\n"
          ]
        }
      ],
      "source": [
        "for x,y in train_dataset.take(1):#take the first batch\n",
        "    x=x\n",
        "    y=y\n",
        "print('shape of x:',x.shape)\n",
        "print('shape of y:',y.shape)"
      ]
    },
    {
      "cell_type": "markdown",
      "source": [
        "#Build the Model"
      ],
      "metadata": {
        "id": "7iwAL0lwhR9S"
      }
    },
    {
      "cell_type": "code",
      "execution_count": null,
      "metadata": {
        "id": "ztnnRWQsjDwn"
      },
      "outputs": [],
      "source": [
        "model = tf.keras.models.Sequential([tf.keras.layers.Input([32,32,3])\n",
        ",tf.keras.layers.Conv2D(32, (3, 3), activation='relu',padding='same')\n",
        ",tf.keras.layers.MaxPooling2D((2, 2))\n",
        ",tf.keras.layers.Conv2D(64, (3, 3), activation='relu',padding='same')\n",
        ",tf.keras.layers.MaxPooling2D((2, 2))\n",
        ",tf.keras.layers.Conv2D(128, (3, 3), activation='relu',padding='same')\n",
        ",tf.keras.layers.MaxPooling2D((2, 2))\n",
        ",tf.keras.layers.Flatten()\n",
        ",tf.keras.layers.Dense(256, activation='relu')\n",
        ",tf.keras.layers.Dropout(0.3)\n",
        ",tf.keras.layers.Dense(128, activation='relu')\n",
        ",tf.keras.layers.Dropout(0.2)\n",
        ",tf.keras.layers.Dense(10,activation=tf.nn.softmax)\n",
        "\n",
        "\n",
        "]\n",
        ")"
      ]
    },
    {
      "cell_type": "code",
      "source": [
        "model.summary()"
      ],
      "metadata": {
        "colab": {
          "base_uri": "https://localhost:8080/"
        },
        "id": "6SgtOm9YKt0h",
        "outputId": "af658397-1522-4d34-dfa7-547b2cdef18b"
      },
      "execution_count": null,
      "outputs": [
        {
          "output_type": "stream",
          "name": "stdout",
          "text": [
            "Model: \"sequential_4\"\n",
            "_________________________________________________________________\n",
            " Layer (type)                Output Shape              Param #   \n",
            "=================================================================\n",
            " conv2d_12 (Conv2D)          (None, 32, 32, 32)        896       \n",
            "                                                                 \n",
            " max_pooling2d_12 (MaxPoolin  (None, 16, 16, 32)       0         \n",
            " g2D)                                                            \n",
            "                                                                 \n",
            " conv2d_13 (Conv2D)          (None, 16, 16, 64)        18496     \n",
            "                                                                 \n",
            " max_pooling2d_13 (MaxPoolin  (None, 8, 8, 64)         0         \n",
            " g2D)                                                            \n",
            "                                                                 \n",
            " conv2d_14 (Conv2D)          (None, 8, 8, 128)         73856     \n",
            "                                                                 \n",
            " max_pooling2d_14 (MaxPoolin  (None, 4, 4, 128)        0         \n",
            " g2D)                                                            \n",
            "                                                                 \n",
            " flatten_4 (Flatten)         (None, 2048)              0         \n",
            "                                                                 \n",
            " dense_12 (Dense)            (None, 256)               524544    \n",
            "                                                                 \n",
            " dropout_8 (Dropout)         (None, 256)               0         \n",
            "                                                                 \n",
            " dense_13 (Dense)            (None, 128)               32896     \n",
            "                                                                 \n",
            " dropout_9 (Dropout)         (None, 128)               0         \n",
            "                                                                 \n",
            " dense_14 (Dense)            (None, 10)                1290      \n",
            "                                                                 \n",
            "=================================================================\n",
            "Total params: 651,978\n",
            "Trainable params: 651,978\n",
            "Non-trainable params: 0\n",
            "_________________________________________________________________\n"
          ]
        }
      ]
    },
    {
      "cell_type": "markdown",
      "source": [
        "#Compile and Train the Model"
      ],
      "metadata": {
        "id": "WzopzaHXhbob"
      }
    },
    {
      "cell_type": "code",
      "source": [
        "model.compile(optimizer=tf.optimizers.Adam(),\n",
        "              loss=tf.keras.losses.CategoricalCrossentropy(),\n",
        "              metrics=['accuracy'])#compile the model\n",
        "\n",
        "history = model.fit(train_dataset, epochs=20, \n",
        "                    validation_data=(test_dataset),callbacks=[tf.keras.callbacks.ModelCheckpoint('model.h5',save_best_only=True)])#train the model and save the best model"
      ],
      "metadata": {
        "colab": {
          "base_uri": "https://localhost:8080/"
        },
        "id": "-JCt4L1-Kwup",
        "outputId": "01237535-6173-4540-c1d4-6833b65412f5"
      },
      "execution_count": null,
      "outputs": [
        {
          "output_type": "stream",
          "name": "stdout",
          "text": [
            "Epoch 1/20\n",
            "1563/1563 [==============================] - 18s 11ms/step - loss: 1.8256 - accuracy: 0.3715 - val_loss: 1.3791 - val_accuracy: 0.4962\n",
            "Epoch 2/20\n",
            "1563/1563 [==============================] - 17s 11ms/step - loss: 1.3551 - accuracy: 0.5188 - val_loss: 1.1963 - val_accuracy: 0.5846\n",
            "Epoch 3/20\n",
            "1563/1563 [==============================] - 17s 11ms/step - loss: 1.2078 - accuracy: 0.5800 - val_loss: 1.1008 - val_accuracy: 0.6177\n",
            "Epoch 4/20\n",
            "1563/1563 [==============================] - 17s 11ms/step - loss: 1.1007 - accuracy: 0.6212 - val_loss: 1.0411 - val_accuracy: 0.6408\n",
            "Epoch 5/20\n",
            "1563/1563 [==============================] - 17s 11ms/step - loss: 1.0262 - accuracy: 0.6512 - val_loss: 1.0235 - val_accuracy: 0.6506\n",
            "Epoch 6/20\n",
            "1563/1563 [==============================] - 17s 11ms/step - loss: 0.9650 - accuracy: 0.6701 - val_loss: 0.9717 - val_accuracy: 0.6752\n",
            "Epoch 7/20\n",
            "1563/1563 [==============================] - 17s 11ms/step - loss: 0.9044 - accuracy: 0.6898 - val_loss: 1.0002 - val_accuracy: 0.6703\n",
            "Epoch 8/20\n",
            "1563/1563 [==============================] - 17s 11ms/step - loss: 0.8761 - accuracy: 0.7011 - val_loss: 0.9383 - val_accuracy: 0.6847\n",
            "Epoch 9/20\n",
            "1563/1563 [==============================] - 17s 11ms/step - loss: 0.8318 - accuracy: 0.7182 - val_loss: 0.9331 - val_accuracy: 0.6885\n",
            "Epoch 10/20\n",
            "1563/1563 [==============================] - 17s 11ms/step - loss: 0.7979 - accuracy: 0.7274 - val_loss: 0.9448 - val_accuracy: 0.6909\n",
            "Epoch 11/20\n",
            "1563/1563 [==============================] - 17s 11ms/step - loss: 0.7663 - accuracy: 0.7421 - val_loss: 0.9852 - val_accuracy: 0.6736\n",
            "Epoch 12/20\n",
            "1563/1563 [==============================] - 17s 11ms/step - loss: 0.7410 - accuracy: 0.7485 - val_loss: 1.0176 - val_accuracy: 0.6720\n",
            "Epoch 13/20\n",
            "1563/1563 [==============================] - 17s 11ms/step - loss: 0.7233 - accuracy: 0.7556 - val_loss: 0.9605 - val_accuracy: 0.6946\n",
            "Epoch 14/20\n",
            "1563/1563 [==============================] - 17s 11ms/step - loss: 0.6872 - accuracy: 0.7676 - val_loss: 0.9941 - val_accuracy: 0.6790\n",
            "Epoch 15/20\n",
            "1563/1563 [==============================] - 17s 11ms/step - loss: 0.6783 - accuracy: 0.7701 - val_loss: 1.0234 - val_accuracy: 0.6749\n",
            "Epoch 16/20\n",
            "1563/1563 [==============================] - 17s 11ms/step - loss: 0.6576 - accuracy: 0.7805 - val_loss: 0.9733 - val_accuracy: 0.6969\n",
            "Epoch 17/20\n",
            "1563/1563 [==============================] - 17s 11ms/step - loss: 0.6467 - accuracy: 0.7862 - val_loss: 0.9742 - val_accuracy: 0.7009\n",
            "Epoch 18/20\n",
            "1563/1563 [==============================] - 17s 11ms/step - loss: 0.6168 - accuracy: 0.7953 - val_loss: 1.0108 - val_accuracy: 0.6940\n",
            "Epoch 19/20\n",
            "1563/1563 [==============================] - 17s 11ms/step - loss: 0.6175 - accuracy: 0.7958 - val_loss: 1.0174 - val_accuracy: 0.6989\n",
            "Epoch 20/20\n",
            "1563/1563 [==============================] - 17s 11ms/step - loss: 0.5999 - accuracy: 0.8011 - val_loss: 0.9914 - val_accuracy: 0.7111\n"
          ]
        }
      ]
    },
    {
      "cell_type": "code",
      "source": [
        "train_info=pd.DataFrame(history.history)\n",
        "train_info"
      ],
      "metadata": {
        "colab": {
          "base_uri": "https://localhost:8080/",
          "height": 676
        },
        "id": "w6wYEiGeK2ou",
        "outputId": "60fe4677-7648-4cf8-977c-fd481b43cd3a"
      },
      "execution_count": null,
      "outputs": [
        {
          "output_type": "execute_result",
          "data": {
            "text/html": [
              "\n",
              "  <div id=\"df-0a6c15d0-1090-4912-9d34-aa6c6f9b74bc\">\n",
              "    <div class=\"colab-df-container\">\n",
              "      <div>\n",
              "<style scoped>\n",
              "    .dataframe tbody tr th:only-of-type {\n",
              "        vertical-align: middle;\n",
              "    }\n",
              "\n",
              "    .dataframe tbody tr th {\n",
              "        vertical-align: top;\n",
              "    }\n",
              "\n",
              "    .dataframe thead th {\n",
              "        text-align: right;\n",
              "    }\n",
              "</style>\n",
              "<table border=\"1\" class=\"dataframe\">\n",
              "  <thead>\n",
              "    <tr style=\"text-align: right;\">\n",
              "      <th></th>\n",
              "      <th>loss</th>\n",
              "      <th>accuracy</th>\n",
              "      <th>val_loss</th>\n",
              "      <th>val_accuracy</th>\n",
              "    </tr>\n",
              "  </thead>\n",
              "  <tbody>\n",
              "    <tr>\n",
              "      <th>0</th>\n",
              "      <td>1.825640</td>\n",
              "      <td>0.37154</td>\n",
              "      <td>1.379051</td>\n",
              "      <td>0.4962</td>\n",
              "    </tr>\n",
              "    <tr>\n",
              "      <th>1</th>\n",
              "      <td>1.355129</td>\n",
              "      <td>0.51878</td>\n",
              "      <td>1.196259</td>\n",
              "      <td>0.5846</td>\n",
              "    </tr>\n",
              "    <tr>\n",
              "      <th>2</th>\n",
              "      <td>1.207842</td>\n",
              "      <td>0.57996</td>\n",
              "      <td>1.100846</td>\n",
              "      <td>0.6177</td>\n",
              "    </tr>\n",
              "    <tr>\n",
              "      <th>3</th>\n",
              "      <td>1.100678</td>\n",
              "      <td>0.62122</td>\n",
              "      <td>1.041119</td>\n",
              "      <td>0.6408</td>\n",
              "    </tr>\n",
              "    <tr>\n",
              "      <th>4</th>\n",
              "      <td>1.026185</td>\n",
              "      <td>0.65118</td>\n",
              "      <td>1.023507</td>\n",
              "      <td>0.6506</td>\n",
              "    </tr>\n",
              "    <tr>\n",
              "      <th>5</th>\n",
              "      <td>0.964980</td>\n",
              "      <td>0.67010</td>\n",
              "      <td>0.971672</td>\n",
              "      <td>0.6752</td>\n",
              "    </tr>\n",
              "    <tr>\n",
              "      <th>6</th>\n",
              "      <td>0.904415</td>\n",
              "      <td>0.68978</td>\n",
              "      <td>1.000195</td>\n",
              "      <td>0.6703</td>\n",
              "    </tr>\n",
              "    <tr>\n",
              "      <th>7</th>\n",
              "      <td>0.876148</td>\n",
              "      <td>0.70106</td>\n",
              "      <td>0.938294</td>\n",
              "      <td>0.6847</td>\n",
              "    </tr>\n",
              "    <tr>\n",
              "      <th>8</th>\n",
              "      <td>0.831800</td>\n",
              "      <td>0.71818</td>\n",
              "      <td>0.933082</td>\n",
              "      <td>0.6885</td>\n",
              "    </tr>\n",
              "    <tr>\n",
              "      <th>9</th>\n",
              "      <td>0.797874</td>\n",
              "      <td>0.72736</td>\n",
              "      <td>0.944776</td>\n",
              "      <td>0.6909</td>\n",
              "    </tr>\n",
              "    <tr>\n",
              "      <th>10</th>\n",
              "      <td>0.766306</td>\n",
              "      <td>0.74214</td>\n",
              "      <td>0.985226</td>\n",
              "      <td>0.6736</td>\n",
              "    </tr>\n",
              "    <tr>\n",
              "      <th>11</th>\n",
              "      <td>0.740980</td>\n",
              "      <td>0.74848</td>\n",
              "      <td>1.017649</td>\n",
              "      <td>0.6720</td>\n",
              "    </tr>\n",
              "    <tr>\n",
              "      <th>12</th>\n",
              "      <td>0.723326</td>\n",
              "      <td>0.75560</td>\n",
              "      <td>0.960486</td>\n",
              "      <td>0.6946</td>\n",
              "    </tr>\n",
              "    <tr>\n",
              "      <th>13</th>\n",
              "      <td>0.687206</td>\n",
              "      <td>0.76764</td>\n",
              "      <td>0.994140</td>\n",
              "      <td>0.6790</td>\n",
              "    </tr>\n",
              "    <tr>\n",
              "      <th>14</th>\n",
              "      <td>0.678295</td>\n",
              "      <td>0.77008</td>\n",
              "      <td>1.023373</td>\n",
              "      <td>0.6749</td>\n",
              "    </tr>\n",
              "    <tr>\n",
              "      <th>15</th>\n",
              "      <td>0.657559</td>\n",
              "      <td>0.78048</td>\n",
              "      <td>0.973283</td>\n",
              "      <td>0.6969</td>\n",
              "    </tr>\n",
              "    <tr>\n",
              "      <th>16</th>\n",
              "      <td>0.646663</td>\n",
              "      <td>0.78618</td>\n",
              "      <td>0.974189</td>\n",
              "      <td>0.7009</td>\n",
              "    </tr>\n",
              "    <tr>\n",
              "      <th>17</th>\n",
              "      <td>0.616795</td>\n",
              "      <td>0.79526</td>\n",
              "      <td>1.010753</td>\n",
              "      <td>0.6940</td>\n",
              "    </tr>\n",
              "    <tr>\n",
              "      <th>18</th>\n",
              "      <td>0.617472</td>\n",
              "      <td>0.79582</td>\n",
              "      <td>1.017377</td>\n",
              "      <td>0.6989</td>\n",
              "    </tr>\n",
              "    <tr>\n",
              "      <th>19</th>\n",
              "      <td>0.599891</td>\n",
              "      <td>0.80112</td>\n",
              "      <td>0.991377</td>\n",
              "      <td>0.7111</td>\n",
              "    </tr>\n",
              "  </tbody>\n",
              "</table>\n",
              "</div>\n",
              "      <button class=\"colab-df-convert\" onclick=\"convertToInteractive('df-0a6c15d0-1090-4912-9d34-aa6c6f9b74bc')\"\n",
              "              title=\"Convert this dataframe to an interactive table.\"\n",
              "              style=\"display:none;\">\n",
              "        \n",
              "  <svg xmlns=\"http://www.w3.org/2000/svg\" height=\"24px\"viewBox=\"0 0 24 24\"\n",
              "       width=\"24px\">\n",
              "    <path d=\"M0 0h24v24H0V0z\" fill=\"none\"/>\n",
              "    <path d=\"M18.56 5.44l.94 2.06.94-2.06 2.06-.94-2.06-.94-.94-2.06-.94 2.06-2.06.94zm-11 1L8.5 8.5l.94-2.06 2.06-.94-2.06-.94L8.5 2.5l-.94 2.06-2.06.94zm10 10l.94 2.06.94-2.06 2.06-.94-2.06-.94-.94-2.06-.94 2.06-2.06.94z\"/><path d=\"M17.41 7.96l-1.37-1.37c-.4-.4-.92-.59-1.43-.59-.52 0-1.04.2-1.43.59L10.3 9.45l-7.72 7.72c-.78.78-.78 2.05 0 2.83L4 21.41c.39.39.9.59 1.41.59.51 0 1.02-.2 1.41-.59l7.78-7.78 2.81-2.81c.8-.78.8-2.07 0-2.86zM5.41 20L4 18.59l7.72-7.72 1.47 1.35L5.41 20z\"/>\n",
              "  </svg>\n",
              "      </button>\n",
              "      \n",
              "  <style>\n",
              "    .colab-df-container {\n",
              "      display:flex;\n",
              "      flex-wrap:wrap;\n",
              "      gap: 12px;\n",
              "    }\n",
              "\n",
              "    .colab-df-convert {\n",
              "      background-color: #E8F0FE;\n",
              "      border: none;\n",
              "      border-radius: 50%;\n",
              "      cursor: pointer;\n",
              "      display: none;\n",
              "      fill: #1967D2;\n",
              "      height: 32px;\n",
              "      padding: 0 0 0 0;\n",
              "      width: 32px;\n",
              "    }\n",
              "\n",
              "    .colab-df-convert:hover {\n",
              "      background-color: #E2EBFA;\n",
              "      box-shadow: 0px 1px 2px rgba(60, 64, 67, 0.3), 0px 1px 3px 1px rgba(60, 64, 67, 0.15);\n",
              "      fill: #174EA6;\n",
              "    }\n",
              "\n",
              "    [theme=dark] .colab-df-convert {\n",
              "      background-color: #3B4455;\n",
              "      fill: #D2E3FC;\n",
              "    }\n",
              "\n",
              "    [theme=dark] .colab-df-convert:hover {\n",
              "      background-color: #434B5C;\n",
              "      box-shadow: 0px 1px 3px 1px rgba(0, 0, 0, 0.15);\n",
              "      filter: drop-shadow(0px 1px 2px rgba(0, 0, 0, 0.3));\n",
              "      fill: #FFFFFF;\n",
              "    }\n",
              "  </style>\n",
              "\n",
              "      <script>\n",
              "        const buttonEl =\n",
              "          document.querySelector('#df-0a6c15d0-1090-4912-9d34-aa6c6f9b74bc button.colab-df-convert');\n",
              "        buttonEl.style.display =\n",
              "          google.colab.kernel.accessAllowed ? 'block' : 'none';\n",
              "\n",
              "        async function convertToInteractive(key) {\n",
              "          const element = document.querySelector('#df-0a6c15d0-1090-4912-9d34-aa6c6f9b74bc');\n",
              "          const dataTable =\n",
              "            await google.colab.kernel.invokeFunction('convertToInteractive',\n",
              "                                                     [key], {});\n",
              "          if (!dataTable) return;\n",
              "\n",
              "          const docLinkHtml = 'Like what you see? Visit the ' +\n",
              "            '<a target=\"_blank\" href=https://colab.research.google.com/notebooks/data_table.ipynb>data table notebook</a>'\n",
              "            + ' to learn more about interactive tables.';\n",
              "          element.innerHTML = '';\n",
              "          dataTable['output_type'] = 'display_data';\n",
              "          await google.colab.output.renderOutput(dataTable, element);\n",
              "          const docLink = document.createElement('div');\n",
              "          docLink.innerHTML = docLinkHtml;\n",
              "          element.appendChild(docLink);\n",
              "        }\n",
              "      </script>\n",
              "    </div>\n",
              "  </div>\n",
              "  "
            ],
            "text/plain": [
              "        loss  accuracy  val_loss  val_accuracy\n",
              "0   1.825640   0.37154  1.379051        0.4962\n",
              "1   1.355129   0.51878  1.196259        0.5846\n",
              "2   1.207842   0.57996  1.100846        0.6177\n",
              "3   1.100678   0.62122  1.041119        0.6408\n",
              "4   1.026185   0.65118  1.023507        0.6506\n",
              "5   0.964980   0.67010  0.971672        0.6752\n",
              "6   0.904415   0.68978  1.000195        0.6703\n",
              "7   0.876148   0.70106  0.938294        0.6847\n",
              "8   0.831800   0.71818  0.933082        0.6885\n",
              "9   0.797874   0.72736  0.944776        0.6909\n",
              "10  0.766306   0.74214  0.985226        0.6736\n",
              "11  0.740980   0.74848  1.017649        0.6720\n",
              "12  0.723326   0.75560  0.960486        0.6946\n",
              "13  0.687206   0.76764  0.994140        0.6790\n",
              "14  0.678295   0.77008  1.023373        0.6749\n",
              "15  0.657559   0.78048  0.973283        0.6969\n",
              "16  0.646663   0.78618  0.974189        0.7009\n",
              "17  0.616795   0.79526  1.010753        0.6940\n",
              "18  0.617472   0.79582  1.017377        0.6989\n",
              "19  0.599891   0.80112  0.991377        0.7111"
            ]
          },
          "metadata": {},
          "execution_count": 132
        }
      ]
    },
    {
      "cell_type": "code",
      "source": [
        "train_info.plot.line()"
      ],
      "metadata": {
        "colab": {
          "base_uri": "https://localhost:8080/",
          "height": 284
        },
        "id": "1Gn1fpVYMamF",
        "outputId": "86791e44-092c-471b-dcec-6a117c91fa44"
      },
      "execution_count": null,
      "outputs": [
        {
          "output_type": "execute_result",
          "data": {
            "text/plain": [
              "<matplotlib.axes._subplots.AxesSubplot at 0x7f301f0e9e10>"
            ]
          },
          "metadata": {},
          "execution_count": 133
        },
        {
          "output_type": "display_data",
          "data": {
            "image/png": "[encoded data removed]",
            "text/plain": [
              "<Figure size 432x288 with 1 Axes>"
            ]
          },
          "metadata": {
            "needs_background": "light"
          }
        }
      ]
    },
    {
      "cell_type": "code",
      "source": [
        ""
      ],
      "metadata": {
        "id": "xZq9U4PiMdrO"
      },
      "execution_count": null,
      "outputs": []
    }
  ],
  "metadata": {
    "accelerator": "GPU",
    "colab": {
      "collapsed_sections": [],
      "name": "CNN.ipynb",
      "provenance": []
    },
    "kernelspec": {
      "display_name": "Python 3",
      "name": "python3"
    },
    "language_info": {
      "name": "python"
    }
  },
  "nbformat": 4,
  "nbformat_minor": 0
}